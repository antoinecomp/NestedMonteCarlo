{
 "cells": [
  {
   "cell_type": "code",
   "execution_count": 82,
   "metadata": {},
   "outputs": [],
   "source": [
    "#!/usr/bin/env python3\n",
    "from timeit import default_timer as timer\n",
    "\n",
    "import csv \n",
    "import pandas as pd\n",
    "import numpy as np\n",
    "import matplotlib.pyplot as plt\n",
    "plt.style.use(\"ggplot\")\n",
    "\n",
    "from keras.models import Sequential\n",
    "from keras.layers import Dense"
   ]
  },
  {
   "cell_type": "code",
   "execution_count": 83,
   "metadata": {},
   "outputs": [
    {
     "name": "stdout",
     "output_type": "stream",
     "text": [
      "(28961, 256)\n"
     ]
    }
   ],
   "source": [
    "# we divide data.csv into train and tests \n",
    "\n",
    "with open(\"data.csv\", 'r') as f:\n",
    "    plays = np.array(list(csv.reader(f, delimiter=\",\")))\n",
    "    print(plays.shape)    \n",
    "# We take the 126 first columns as input\n",
    "df = pd.DataFrame(data=plays[0:28961,1:256])\n",
    "# We take the 126 last columns as output\n",
    "Y = pd.DataFrame(data=plays[0:28961,129:256])\n",
    "    \n",
    "#plays.reshape((64,64))\n",
    "\n",
    "#board = np.reshape(plays, (8, 8))\n",
    "\n"
   ]
  },
  {
   "cell_type": "code",
   "execution_count": 88,
   "metadata": {},
   "outputs": [],
   "source": [
    "df['split'] = np.random.randn(df.shape[0], 1)\n",
    "msk = np.random.rand(len(df)) <= 0.7\n",
    "\n",
    "train_df = df[msk].fillna(\"sterby\")\n",
    "test_df = df[~msk].fillna(\"sterby\")\n",
    "\n",
    "# we take the 128 first columns has input\n",
    "X_train = train_df.iloc[:,0:128].values\n",
    "# we take the 128 last columns has input\n",
    "y_train = train_df.iloc[:,128:].values\n",
    "X_test = test_df.iloc[:,0:128].values\n",
    "Y_test = test_df.iloc[:,128:].values"
   ]
  },
  {
   "cell_type": "code",
   "execution_count": 89,
   "metadata": {},
   "outputs": [
    {
     "name": "stdout",
     "output_type": "stream",
     "text": [
      "(20326, 128)\n"
     ]
    }
   ],
   "source": [
    "print(y_train.shape)"
   ]
  },
  {
   "cell_type": "code",
   "execution_count": 90,
   "metadata": {},
   "outputs": [],
   "source": [
    "# model construction\n",
    "\n",
    "model = Sequential()\n",
    "model.add(Dense(12, input_dim=128, activation='relu'))\n",
    "model.add(Dense(128, activation='relu'))\n",
    "model.add(Dense(128, activation='sigmoid'))"
   ]
  },
  {
   "cell_type": "code",
   "execution_count": 92,
   "metadata": {},
   "outputs": [
    {
     "name": "stdout",
     "output_type": "stream",
     "text": [
      "(20326, 128)\n",
      "(20326, 128)\n",
      "(8635, 128)\n",
      "(8635, 128)\n"
     ]
    }
   ],
   "source": [
    "print(X_train.shape)\n",
    "print(y_train.shape)\n",
    "print(X_test.shape)\n",
    "print(Y_test.shape)"
   ]
  },
  {
   "cell_type": "code",
   "execution_count": 95,
   "metadata": {},
   "outputs": [
    {
     "name": "stdout",
     "output_type": "stream",
     "text": [
      "compile\n",
      "\n",
      "fit\n",
      "Epoch 1/3\n",
      "8635/8635 [==============================] - 3s 293us/step - loss: 0.0294 - acc: 0.9844\n",
      "Epoch 2/3\n",
      "8635/8635 [==============================] - 2s 261us/step - loss: 0.0285 - acc: 0.9844\n",
      "Epoch 3/3\n",
      "8635/8635 [==============================] - 2s 260us/step - loss: 0.0276 - acc: 0.9844\n"
     ]
    },
    {
     "data": {
      "text/plain": [
       "<keras.callbacks.History at 0x7fe76673fda0>"
      ]
     },
     "execution_count": 95,
     "metadata": {},
     "output_type": "execute_result"
    }
   ],
   "source": [
    "print(\"compile\")\n",
    "model.compile(loss='binary_crossentropy', optimizer='adam', metrics=['accuracy'])\n",
    "\n",
    "print(\"\\nfit\")\n",
    "model.fit(X_test, Y_test, epochs=3, batch_size=10)"
   ]
  },
  {
   "cell_type": "code",
   "execution_count": 98,
   "metadata": {},
   "outputs": [
    {
     "name": "stdout",
     "output_type": "stream",
     "text": [
      "\n",
      "evaluate\n",
      "8635/8635 [==============================] - 1s 75us/step\n",
      "\n",
      "acc: 98.45%\n",
      "8635/8635 [==============================] - 1s 106us/step\n",
      "test_result\n",
      " [[  1.60249231e-10   1.57197408e-10   1.78046800e-10 ...,   8.06011646e-10\n",
      "    2.87453585e-11   1.05719216e-07]\n",
      " [  9.99999881e-01   1.00000000e+00   1.00000000e+00 ...,   4.50084826e-06\n",
      "    1.51667036e-02   1.31008149e-09]\n",
      " [  3.97244726e-09   6.44172315e-09   6.53204246e-09 ...,   1.03612852e-09\n",
      "    4.64309551e-06   8.90088536e-09]\n",
      " ..., \n",
      " [  1.00000000e+00   1.00000000e+00   1.00000000e+00 ...,   6.91303425e-03\n",
      "    1.18587996e-04   1.97816306e-08]\n",
      " [  3.17247201e-10   1.98654357e-10   2.61000277e-10 ...,   4.78524029e-08\n",
      "    1.41504786e-09   1.21465773e-05]\n",
      " [  6.81309315e-11   4.57173951e-11   8.21375606e-11 ...,   6.68656286e-09\n",
      "    4.29911412e-10   6.40537764e-05]]\n"
     ]
    }
   ],
   "source": [
    "print(\"\\nevaluate\")\n",
    "\n",
    "# evaluate the model\n",
    "scores = model.evaluate(X_test, Y_test)\n",
    "print(\"\\n%s: %.2f%%\" % (model.metrics_names[1], scores[1]*100))\n",
    "\n",
    "\n",
    "# Generates output predictions for the input samples.\n",
    "test_result =model.predict(X_test, batch_size=10, verbose=1, steps=None)\n",
    "print(\"test_result\\n\",test_result)\n",
    "\n",
    "# we put them in an array\n",
    "array_result = np.array(test_result)\n"
   ]
  },
  {
   "cell_type": "code",
   "execution_count": null,
   "metadata": {},
   "outputs": [],
   "source": []
  },
  {
   "cell_type": "code",
   "execution_count": null,
   "metadata": {},
   "outputs": [],
   "source": []
  }
 ],
 "metadata": {
  "kernelspec": {
   "display_name": "Python 3",
   "language": "python",
   "name": "python3"
  },
  "language_info": {
   "codemirror_mode": {
    "name": "ipython",
    "version": 3
   },
   "file_extension": ".py",
   "mimetype": "text/x-python",
   "name": "python",
   "nbconvert_exporter": "python",
   "pygments_lexer": "ipython3",
   "version": "3.5.2"
  }
 },
 "nbformat": 4,
 "nbformat_minor": 2
}
